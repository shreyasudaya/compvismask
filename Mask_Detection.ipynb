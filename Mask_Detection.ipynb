{
  "cells": [
    {
      "cell_type": "markdown",
      "metadata": {
        "id": "view-in-github",
        "colab_type": "text"
      },
      "source": [
        "<a href=\"https://colab.research.google.com/github/shreyasudaya/compvismask/blob/main/Mask_Detection.ipynb\" target=\"_parent\"><img src=\"https://colab.research.google.com/assets/colab-badge.svg\" alt=\"Open In Colab\"/></a>"
      ]
    },
    {
      "cell_type": "code",
      "execution_count": null,
      "metadata": {
        "id": "je_VIXMt5SSH",
        "colab": {
          "base_uri": "https://localhost:8080/"
        },
        "outputId": "9278b16e-57a8-41e2-8263-aea4c9c0cf81"
      },
      "outputs": [
        {
          "output_type": "stream",
          "name": "stdout",
          "text": [
            "Mounted at /content/drive\n"
          ]
        }
      ],
      "source": [
        "\n",
        "from tensorflow.keras.models import Sequential,load_model\n",
        "from tensorflow.keras.layers import Dense, Dropout, Flatten, Conv2D, MaxPooling2D\n",
        "from tensorflow.keras.optimizers import Adam\n",
        "from tensorflow.keras.preprocessing.image import ImageDataGenerator,load_img,img_to_array\n",
        "import numpy as np\n",
        "from matplotlib import pyplot as plt\n",
        "import os\n",
        "import cv2\n",
        "from google.colab import drive\n",
        "drive.mount('/content/drive',force_remount=True)\n",
        "!unzip -uq \"/content/drive/MyDrive/Facemask/archive\" -d \"/content/drive/MyDrive/Facemask/archive\"\n"
      ]
    },
    {
      "cell_type": "code",
      "execution_count": null,
      "metadata": {
        "colab": {
          "base_uri": "https://localhost:8080/"
        },
        "id": "veAFMBeTRTi1",
        "outputId": "cd5f94fb-04cb-409f-9264-3abe97dfe52a"
      },
      "outputs": [
        {
          "output_type": "stream",
          "name": "stdout",
          "text": [
            "Found 700 images belonging to 2 classes.\n",
            "Found 100 images belonging to 2 classes.\n",
            "Found 306 images belonging to 2 classes.\n",
            "Model: \"sequential\"\n",
            "_________________________________________________________________\n",
            " Layer (type)                Output Shape              Param #   \n",
            "=================================================================\n",
            " conv2d (Conv2D)             (None, 150, 150, 32)      896       \n",
            "                                                                 \n",
            " max_pooling2d (MaxPooling2D  (None, 75, 75, 32)       0         \n",
            " )                                                               \n",
            "                                                                 \n",
            " dropout (Dropout)           (None, 75, 75, 32)        0         \n",
            "                                                                 \n",
            " conv2d_1 (Conv2D)           (None, 75, 75, 64)        18496     \n",
            "                                                                 \n",
            " max_pooling2d_1 (MaxPooling  (None, 37, 37, 64)       0         \n",
            " 2D)                                                             \n",
            "                                                                 \n",
            " dropout_1 (Dropout)         (None, 37, 37, 64)        0         \n",
            "                                                                 \n",
            " flatten (Flatten)           (None, 87616)             0         \n",
            "                                                                 \n",
            " dense (Dense)               (None, 256)               22429952  \n",
            "                                                                 \n",
            " dropout_2 (Dropout)         (None, 256)               0         \n",
            "                                                                 \n",
            " dense_1 (Dense)             (None, 1)                 257       \n",
            "                                                                 \n",
            "=================================================================\n",
            "Total params: 22,449,601\n",
            "Trainable params: 22,449,601\n",
            "Non-trainable params: 0\n",
            "_________________________________________________________________\n"
          ]
        }
      ],
      "source": [
        "main_dir=\"/content/drive/MyDrive/Facemask/archive/New Masks Dataset\"\n",
        "train_dir = os.path.join(main_dir,'Train')\n",
        "test_dir = os.path.join(main_dir,'Test')\n",
        "valid_dir = os.path.join(main_dir,'Validation')\n",
        "train_mask_dir=os.path.join(train_dir,'Mask')\n",
        "train_nomask_dir=os.path.join(train_dir,'Non Mask')\n",
        "train_mask_names= os.listdir(train_mask_dir)\n",
        "train_nomask_names= os.listdir(train_nomask_dir)\n",
        "train_datagen=ImageDataGenerator(rescale=1./255,\n",
        "                                 zoom_range=0.2,\n",
        "                                 rotation_range=40,\n",
        "                                 horizontal_flip= True\n",
        "                                 )\n",
        "test_datagen=ImageDataGenerator(rescale=1./255)\n",
        "validation_datagen=ImageDataGenerator(rescale=1./255)\n",
        "train_generator=train_datagen.flow_from_directory(train_dir,\n",
        "                                                  target_size= (150,150),\n",
        "                                                  batch_size= 32,\n",
        "                                                  class_mode= 'binary')\n",
        "test_generator=test_datagen.flow_from_directory(test_dir,\n",
        "                                                  target_size=(150,150),\n",
        "                                                  batch_size=32,\n",
        "                                                  class_mode='binary')\n",
        "valid_generator=validation_datagen.flow_from_directory(valid_dir,\n",
        "                                                  target_size=(150,150),\n",
        "                                                  batch_size=32,\n",
        "                                                  class_mode='binary')\n",
        "#Building a sequential model with two layers\n",
        "model=Sequential()\n",
        "model.add(Conv2D(32,(3,3),padding='SAME',activation='relu',input_shape=(150,150,3)))\n",
        "model.add(MaxPooling2D(pool_size=(2,2)))\n",
        "model.add(Dropout(0.5))\n",
        "\n",
        "model.add(Conv2D(64,(3,3),padding='SAME',activation='relu'))\n",
        "model.add(MaxPooling2D(pool_size=(2,2)))\n",
        "model.add(Dropout(0.5))\n",
        "model.add(Flatten())\n",
        "model.add(Dense(256,activation='relu'))\n",
        "model.add(Dropout(0.5))\n",
        "model.add(Dense(1,activation='sigmoid'))\n",
        "model.summary()"
      ]
    }
      ],
      "source": [
        "#model is configured with optimizer for gradient descent and lossfunction for binary classification\n",
        "#training the model with around 50 epochs.\n",
        "model.compile(optimizer='adam',loss='binary_crossentropy', metrics =['accuracy'])\n",
        "history = model.fit(train_generator,epochs=50,validation_data=valid_generator)\n",
        "test_loss,test_acc = model.evaluate(test_generator)"
      ]
    },
    {
      "cell_type": "code",
      "execution_count": null,
      "metadata": {
        "id": "VlYMwo5Ohsrj",
        "colab": {
          "base_uri": "https://localhost:8080/",
          "height": 235
        },
      "source": [
        "\n",
        "from google.colab.patches import cv2_imshow\n",
        "model=load_model('/content/drive/MyDrive/Facemask/saved_model.h5')\n",
        "\n",
        "img_width,img_height=150,150\n",
        "\n",
        "face_cascade=cv2.CascadeClassifier('/content/drive/MyDrive/Facemask/haarcascade_frontalface_default.xml')\n",
        "\n",
        "cap=cv2.VideoCapture('/content/drive/MyDrive/Facemask/mask_video.mp4')\n",
        "\n",
        "img_count_full=0\n",
        "\n",
        "font=cv2.FONT_HERSHEY_SIMPLEX\n",
        "org=(1,1)\n",
        "class_label=''\n",
        "fontScale=1\n",
        "color=(255,0,0)\n",
        "thickness=2\n",
        "\n",
        "while True:\n",
        "   img_count_full += 1\n",
        "   response, color_img = cap.read()\n",
        "\n",
        "   if response == False:\n",
        "       break\n",
        "   scale = 50\n",
        "   width=int(color_img.shape[1]*scale/100)\n",
        "   height=int(color_img.shape[0]*scale/100)\n",
        "   dim=(width,height)\n",
        "\n",
        "   color_img= cv2.resize(color_img, dim , interpolation=cv2.INTER_AREA)\n",
        "  \n",
        "   gray_img= cv2.cvtColor(color_img,cv2.COLOR_BGR2GRAY)\n",
        "  \n",
        "   faces = face_cascade.detectMultiScale(gray_img, 1.1, 6)\n",
        "  \n",
        "   img_count=0\n",
        "   for(x,y,w,h) in faces:\n",
        "      org=(x-10,y-10)\n",
        "      img_count+=1\n",
        "      color_face=color_img[y:y+h,x:x+w]\n",
        "      cv2.imwrite('/content/%d%dface.jpg'%(img_count_full,img_count),color_face)\n",
        "      img = load_img('/content/%d%dface.jpg'%(img_count_full,img_count),target_size=(img_width,img_height))\n",
        "      img = img_to_array(img)\n",
        "      img = np.expand_dims(img,axis=0)\n",
        "      prediction = model.predict(img)\n",
        "\n",
        "\n",
        "      if prediction == 0:\n",
        "          class_label=\"Mask\"\n",
        "          color=(0,255,0)\n",
        "      else:\n",
        "          class_label=\"No Mask\"\n",
        "          color=(0,0,255)\n",
        "    \n",
        "      cv2.rectangle(color_img,(x,y),(x+w,y+h),(255,0,0),3)\n",
        "      cv2.putText(color_img, class_label, org, font, fontScale, color, thickness, cv2.LINE_AA)\n",
        "\n",
        "   cv2_imshow(color_img)\n",
        "   if cv2.waitKey(1) & 0xFF == ord('q'):\n",
        "       break\n",
        "cap.release()\n",
        "cv2.destroyAllWindows()"
      ]
    }
  ],
  "metadata": {
    "colab": {
      "collapsed_sections": [],
      "provenance": [],
      "authorship_tag": "ABX9TyPOdFbBx14IH8DGRfVvzbvd",
      "include_colab_link": true
    },
    "kernelspec": {
      "display_name": "Python 3",
      "name": "python3"
    },
    "language_info": {
      "name": "python"
    }
  },
  "nbformat": 4,
  "nbformat_minor": 0
}
